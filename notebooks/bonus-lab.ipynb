{
 "cells": [
  {
   "cell_type": "markdown",
   "metadata": {},
   "source": [
    "# Log analysis with Spark"
   ]
  },
  {
   "cell_type": "code",
   "execution_count": 2,
   "metadata": {},
   "outputs": [],
   "source": [
    "# Data source: ./data/web_logs/apache.access.log\n",
    "# Your task is to find:\n",
    "# - The average, min, and max content size of responses returned from the server.\n",
    "# - A count of response code's returned.\n",
    "# - All IPAddresses that have accessed this server more than N times.\n",
    "# - The top endpoints requested by count.\n",
    "# - Bonus: Wrap one of the tasks into a python script and invoke it via spark-submit\n",
    "df = spark.read.text('../data/web_logs/apache.access.log')"
   ]
  },
  {
   "cell_type": "code",
   "execution_count": 7,
   "metadata": {},
   "outputs": [],
   "source": [
    "logs = sc.textFile('../data/web_logs/apache.access.log')"
   ]
  },
  {
   "cell_type": "code",
   "execution_count": null,
   "metadata": {},
   "outputs": [],
   "source": [
    "logs.colle"
   ]
  }
 ],
 "metadata": {
  "kernelspec": {
   "display_name": ".venv_data_eng_bootcamp",
   "language": "python",
   "name": ".venv_data_eng_bootcamp"
  },
  "language_info": {
   "codemirror_mode": {
    "name": "ipython",
    "version": 3
   },
   "file_extension": ".py",
   "mimetype": "text/x-python",
   "name": "python",
   "nbconvert_exporter": "python",
   "pygments_lexer": "ipython3",
   "version": "3.7.0"
  }
 },
 "nbformat": 4,
 "nbformat_minor": 2
}
